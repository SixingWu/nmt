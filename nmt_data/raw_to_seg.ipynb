{
 "cells": [
  {
   "cell_type": "markdown",
   "metadata": {
    "collapsed": true
   },
   "source": [
    "# README\n",
    "generate segment_infor for seg_embed\n",
    "\n",
    "\n",
    "# Step 1 Process all vocab"
   ]
  },
  {
   "cell_type": "code",
   "execution_count": 9,
   "metadata": {},
   "outputs": [],
   "source": [
    "# Configs including a end\n",
    "seg_len = 8 \n",
    "seg_end = '<#>'\n",
    "seg_pad = '<_>'\n",
    "seg_separator = '\\t'\n",
    "seg_inter_separator = ' '"
   ]
  },
  {
   "cell_type": "code",
   "execution_count": 10,
   "metadata": {},
   "outputs": [
    {
     "name": "stdout",
     "output_type": "stream",
     "text": [
      "original num: 17191\nnew num: 17212\noriginal num: 7709\nnew num: 7783\n"
     ]
    }
   ],
   "source": [
    "# read the vocabs and add all characters in the vocab\n",
    "def add_chars_to_vocab(vocab_path, word_num = -1):\n",
    "    with open(vocab_path,'r+',encoding='utf-8') as fin:\n",
    "        with open(vocab_path+'_seg','w+',encoding='utf-8') as fout:\n",
    "            lines = fin.readlines()\n",
    "            print('original num: %d' % len(lines))\n",
    "            fout.write(''.join(lines[0:3]))\n",
    "            vocab = set()\n",
    "            vocab.add(seg_end)\n",
    "            vocab.add(seg_pad)\n",
    "            # first 3 lines are special tokens\n",
    "            if word_num != -1:\n",
    "                lines = lines[3:3+word_num]\n",
    "            else:\n",
    "                lines = lines[3:]\n",
    "            for line in lines:\n",
    "                word = line.strip('\\n')\n",
    "                vocab.add(word)\n",
    "                for char in word:\n",
    "                    vocab.add(char)\n",
    "            for token in vocab:\n",
    "                fout.write(token+'\\n')\n",
    "            print('new num: %d' % len(vocab))\n",
    "\n",
    "add_chars_to_vocab(r'C:\\Users\\v-sixwu\\PycharmProjects\\nmt\\nmt_data\\vocab.en')\n",
    "add_chars_to_vocab(r'C:\\Users\\v-sixwu\\PycharmProjects\\nmt\\nmt_data\\vocab.vi')"
   ]
  },
  {
   "cell_type": "code",
   "execution_count": null,
   "metadata": {},
   "outputs": [],
   "source": [
    "\n",
    "def convert_to_seg_file(vocab_path, seg_len):\n",
    "    with open(vocab_path,'r+',encoding='utf-8') as fin:\n",
    "        with open(vocab_path+'_seg','w+',encoding='utf-8') as fout:\n",
    "            lines = fin.readlines()\n",
    "            for line in lines:\n",
    "                items = line.strip('\\n').split(' ')\n",
    "                seg_items = []\n",
    "                for item in items:\n",
    "                    item = list(item)\n",
    "                    item = item[0:seg_len - 1]\n",
    "                    item.append(seg_end)\n",
    "                    while len(item) != seg_len:\n",
    "                        item.append(seg_pad)\n",
    "                    seg_items.append(seg_inter_separator.join(item))\n",
    "                fout.write(seg_separator.join(seg_items)+'\\n')\n",
    "convert_to_seg_file(r'C:\\Users\\v-sixwu\\PycharmProjects\\nmt\\nmt_data\\train.en',seg_len)\n",
    "convert_to_seg_file(r'C:\\Users\\v-sixwu\\PycharmProjects\\nmt\\nmt_data\\train.vi',seg_len)\n",
    "convert_to_seg_file(r'C:\\Users\\v-sixwu\\PycharmProjects\\nmt\\nmt_data\\tst2012.en',seg_len)\n",
    "convert_to_seg_file(r'C:\\Users\\v-sixwu\\PycharmProjects\\nmt\\nmt_data\\tst2012.vi',seg_len)\n",
    "convert_to_seg_file(r'C:\\Users\\v-sixwu\\PycharmProjects\\nmt\\nmt_data\\tst2013.en',seg_len)\n",
    "convert_to_seg_file(r'C:\\Users\\v-sixwu\\PycharmProjects\\nmt\\nmt_data\\tst2013.vi',seg_len)\n",
    "\n",
    "                    "
   ]
  },
  {
   "cell_type": "code",
   "execution_count": null,
   "metadata": {},
   "outputs": [],
   "source": []
  }
 ],
 "metadata": {
  "kernelspec": {
   "display_name": "Python 2",
   "language": "python",
   "name": "python2"
  },
  "language_info": {
   "codemirror_mode": {
    "name": "ipython",
    "version": 2
   },
   "file_extension": ".py",
   "mimetype": "text/x-python",
   "name": "python",
   "nbconvert_exporter": "python",
   "pygments_lexer": "ipython2",
   "version": "2.7.6"
  }
 },
 "nbformat": 4,
 "nbformat_minor": 0
}
