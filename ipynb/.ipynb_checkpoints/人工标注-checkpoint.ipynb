{
 "cells": [
  {
   "cell_type": "code",
   "execution_count": 1,
   "metadata": {
    "collapsed": true
   },
   "outputs": [],
   "source": [
    "\n",
    "# 源文件\n",
    "\n",
    "root_path = ''\n",
    "ref_file = '%smessage.txt' % root_path\n",
    "responses = ['%s%d.message.txt' % (root_path,i) for i in range(5)]"
   ]
  },
  {
   "cell_type": "code",
   "execution_count": 33,
   "metadata": {},
   "outputs": [
    {
     "name": "stdout",
     "output_type": "stream",
     "text": [
      "这是一个对话测试，人工标注的程序，本程序有如下特点：\n",
      "\n",
      "1、本程序自带随机，对话每次都会被打乱，保证你不会因为选择特定模型而给分！、\n",
      "2、自带基准培训教程，需要完全通过基准培训教程测试后，才能进行评分！\n",
      "\n",
      "程序运行节奏：\n",
      "#1 首先进行基准培训教程，以及测试\n",
      "#2 通过#1后可以进行打分\n",
      "\n",
      "\n",
      "0/50：#############################\n",
      "当前的上一句是：【好有爱！朋友就应该这样，不是吗？「转」】\n",
      "当前的回复是，请仔细阅读后打分：\n",
      "0:\t【好有爱，好有爱啊。】\n",
      "1:\t【我也想要这样的朋友】\n",
      "2:\t【有爱就应该这样！】\n",
      "3:\t【哈哈哈哈哈哈哈哈哈哈哈哈哈哈哈哈哈哈哈哈哈哈哈哈哈哈哈哈哈哈】\n",
      "4:\t【哈哈哈哈哈哈哈哈哈哈哈哈哈哈哈哈哈哈哈哈哈哈哈哈哈哈哈哈哈哈哈哈哈哈哈哈哈哈哈哈哈哈哈哈哈哈哈哈哈哈哈哈哈哈哈哈哈哈哈哈】\n",
      "5:\t【好有爱，好有爱。】\n",
      "请输入你的分数，0分1分2分，格式如同：0101010101（长度一直就可以）:122001\n",
      "读入：【122001】\n",
      "1/50：#############################\n",
      "当前的上一句是：【今天中午惨绝人寰的聚餐场面。】\n",
      "当前的回复是，请仔细阅读后打分：\n",
      "0:\t【这是哪里啊？好想吃】\n",
      "1:\t【这就是传说中的披萨么？】\n",
      "2:\t【哈哈哈哈哈哈哈哈哈哈哈哈哈哈哈哈哈哈哈哈哈哈哈哈哈哈哈哈哈哈哈哈哈哈哈哈哈哈哈哈哈哈哈哈哈哈哈哈哈哈哈哈哈哈哈哈哈哈哈哈】\n",
      "3:\t【这是一个惨绝人寰的国度】\n",
      "4:\t【这不是pizza，是披萨啊】\n",
      "5:\t【这就是传说中的<unk>？】\n",
      "请输入你的分数，0分1分2分，格式如同：0101010101（长度一直就可以）:220210\n",
      "读入：【220210】\n",
      "2/50：#############################\n",
      "当前的上一句是：【【希腊。一个神奇的国度】】\n",
      "当前的回复是，请仔细阅读后打分：\n",
      "0:\t【一个神奇的国度。】\n",
      "1:\t【一个神奇的国度。】\n",
      "2:\t【一个神奇的国度！】\n",
      "3:\t【一个神奇的国度，一个神奇的国度。】\n",
      "4:\t【一个神奇的国度。】\n",
      "5:\t【一个神奇的国度，一个神奇的国度】\n",
      "请输入你的分数，0分1分2分，格式如同：0101010101（长度一直就可以）:111010\n",
      "读入：【111010】\n",
      "3/50：#############################\n",
      "当前的上一句是：【海豚先生，请游进我的梦里。】\n",
      "当前的回复是，请仔细阅读后打分：\n",
      "0:\t【海豚先生，请关注我！】\n",
      "1:\t【好可爱的海豚先生。】\n",
      "2:\t【海豚，，，，，，，】\n",
      "3:\t【海豚小姐，请游我的梦里】\n",
      "4:\t【海豚先生，请游进我的梦里。】\n",
      "5:\t【海豚先生，请游泳！】\n",
      "请输入你的分数，0分1分2分，格式如同：0101010101（长度一直就可以）:210222\n",
      "读入：【210222】\n",
      "4/50：#############################\n",
      "当前的上一句是：【当年相知未回首，空叹年华似水流。】\n",
      "当前的回复是，请仔细阅读后打分：\n",
      "0:\t【当年相知未回首，蓦然回首。】\n",
      "1:\t【当年相知未回首，空叹年华似水流。】\n",
      "2:\t【当年相知未回首，空叹年华似水流。】\n",
      "3:\t【此情可待成追忆，只是当时已惘然。】\n",
      "4:\t【此情可待成追忆，只是当时已惘然。】\n",
      "5:\t【当年相知未回首，空叹年华似水流】\n",
      "请输入你的分数，0分1分2分，格式如同：0101010101（长度一直就可以）:122222\n",
      "读入：【122222】\n",
      "测试完成！ 十分感谢你的支持！ 接下来请把程序当前目录下的scores.txt发送给我吧 wusixing@pku.edu.cn,只需要这个文件哦！\n",
      "[5, 6, 5, 8, 5, 8]\n"
     ]
    }
   ],
   "source": [
    "import random\n",
    "print('这是一个对话测试，人工标注的程序，本程序有如下特点：')\n",
    "print(\"\"\"\n",
    "1、本程序自带随机，对话每次都会被打乱，保证你不会因为选择特定模型而给分！、\n",
    "2、自带基准培训教程，需要完全通过基准培训教程测试后，才能进行评分！\n",
    "\n",
    "程序运行节奏：\n",
    "#1 首先进行基准培训教程，以及测试\n",
    "#2 通过#1后可以进行打分\n",
    "\n",
    "\"\"\")\n",
    "def mark(message, responses,title='1/1',ground_truth=None):\n",
    "    n = len(responses)\n",
    "    \n",
    "    print('%s：#############################' % (title))\n",
    "    flag = False\n",
    "    orders = random.sample(range(n),n)\n",
    "    if ground_truth is not None:\n",
    "        answer = ''.join([str(orders[i]) for i in range(n)])\n",
    "        print(\"教学模式：当前的答案应该是，请记住这次评分标准：%s\" % answer)\n",
    "    while(flag is False):\n",
    "        print('当前的上一句是：【%s】' % message)\n",
    "        print('当前的回复是，请仔细阅读后打分：')\n",
    "        for i,index in enumerate(orders):\n",
    "            print('%d:\\t【%s】' % (i, responses[index]))\n",
    "        line = input('请输入你的分数，0分1分2分，格式如同：0101010101（长度一直就可以）:')\n",
    "        print('读入：【%s】' % line)\n",
    "        flag = True\n",
    "        if len(line) != n:\n",
    "            print('!!! 长度不合法，次样例数据将会重新进行')\n",
    "            flag = False\n",
    "        for digit in line:\n",
    "            if digit not in ['0','1','2']:\n",
    "                print('!!! 只能输入012，0分最低，2分最高')\n",
    "                flag = False\n",
    "                break\n",
    "        if ground_truth is not None and line!= answer:\n",
    "             print(\"教学模式：输入错误：当前的答案应该是，请记住这次评分标准：%s\" % answer)\n",
    "             flag = False\n",
    "    scores = [0] * n\n",
    "    for i,index in enumerate(orders):\n",
    "        scores[index] = int(line[i])\n",
    "    return''.join([str(x) for x in scores])\n",
    "\n",
    "\n",
    "def read_lines(path):\n",
    "    with open(path,'r+',encoding='utf-8') as fin:\n",
    "        lines = [ line.strip('\\n') for line in fin.readlines()]\n",
    "    return lines\n",
    "\n",
    "scores = []\n",
    "total_scores = [0]*6\n",
    "messages = read_lines('dataset/message.txt')\n",
    "responses = []\n",
    "for i in range(6):\n",
    "    responses.append(read_lines('dataset/response%d.txt' % i))\n",
    "for i in range(50):\n",
    "    score_line = mark(messages[i], [responses[j][i] for j in range(6)],'%d/50' % i)\n",
    "    scores.append(score_line)\n",
    "    for i in range(6):\n",
    "        total_scores[i] += int(score_line[i])\n",
    "\n",
    "with open('dataset/scores.txt','w+') as fout:\n",
    "    fout.write('\\n'.join(scores))\n",
    "print('测试完成！ 十分感谢你的支持！ 接下来请把程序当前目录下的scores.txt发送给我吧 wusixing@pku.edu.cn,只需要这个文件哦！')\n",
    "print(total_scores)"
   ]
  },
  {
   "cell_type": "code",
   "execution_count": 24,
   "metadata": {},
   "outputs": [
    {
     "name": "stdout",
     "output_type": "stream",
     "text": [
      "Submode\n"
     ]
    }
   ],
   "source": [
    "orders = ['char_raw_10_test_f.inf.response',\n",
    "          'word_4W_10_test_f.inf.response',\n",
    "          'hybrid4W_10_test_f.inf.response',\n",
    "          'charCNN_hybrid_4W_10_test_f.inf.response',\n",
    "          'cnnEncDec_10_test_f.inf.response',\n",
    "           'Subword2_10_test_f.inf.response',\n",
    "          'message'\n",
    "         ]\n",
    "\n",
    "\n",
    "\n",
    "all_tests = dict()\n",
    "for order in orders:\n",
    "    if 'dev' in orders:\n",
    "        continue\n",
    "    if order != 'message':\n",
    "        path = '../beam_search/%s' % order\n",
    "    else:\n",
    "        path = '../data/wordlevel/test.20000.message'\n",
    "    with open(path, encoding='utf-8') as fin:\n",
    "        container = []\n",
    "        lines = fin.readlines()\n",
    "        total = 0\n",
    "        unique = set()\n",
    "\n",
    "        if 'Subword' in order:\n",
    "            print('Submode')\n",
    "        for line in lines:\n",
    "            if 'Subword' in order:\n",
    "                line = line.strip('\\n').replace('@@ ','')\n",
    "            elif 'cnnEncDec' in order:\n",
    "                line = line.strip('\\n').replace(' ','').replace('@@',' ')\n",
    "            else:\n",
    "                line = line.strip('\\n').replace('@@','').replace('  ','')\n",
    "            line = line.replace(' ','')\n",
    "            container.append(line)\n",
    "        all_tests[order] = container"
   ]
  },
  {
   "cell_type": "code",
   "execution_count": 26,
   "metadata": {},
   "outputs": [
    {
     "name": "stdout",
     "output_type": "stream",
     "text": [
      "0   char_raw_10_test_f.inf.response\n",
      "1   word_4W_10_test_f.inf.response\n",
      "2   hybrid4W_10_test_f.inf.response\n",
      "3   charCNN_hybrid_4W_10_test_f.inf.response\n",
      "4   cnnEncDec_10_test_f.inf.response\n",
      "5   Subword2_10_test_f.inf.response\n"
     ]
    }
   ],
   "source": [
    "samples = random.sample(range(20000),50)\n",
    "messages = [all_tests['message'][i] for i in samples]\n",
    "with open('dataset/message.txt','w+',encoding='utf-8') as fout:\n",
    "    fout.write('\\n'.join(messages))\n",
    "\n",
    "for i,index in enumerate(orders):\n",
    "    if index == 'message':\n",
    "        continue\n",
    "    print('%d   %s' % (i,index))\n",
    "    messages = [all_tests[index][i] for i in samples]\n",
    "    with open('dataset/response%d.txt' % i,'w+',encoding='utf-8') as fout:\n",
    "        fout.write('\\n'.join(messages))\n"
   ]
  },
  {
   "cell_type": "code",
   "execution_count": 16,
   "metadata": {},
   "outputs": [
    {
     "data": {
      "text/plain": [
       "{'Subword2_10_dev_f.inf.response': ['好 认真 的 笔记 啊 。'],\n",
       " 'Subword2_10_test_f.inf.response': ['我 家狗 狗 也 会 这样 。'],\n",
       " 'charCNN_hybrid_2W_10_dev_f.inf.response': ['中国 文化 博大 精深 。'],\n",
       " 'charCNN_hybrid_2W_10_test_f.inf.response': ['哈哈 ， 好 可爱 的 狗狗 。'],\n",
       " 'charCNN_hybrid_4W_10_dev_f.inf.response': ['太 牛 了 ， 太 牛 了 ！'],\n",
       " 'charCNN_hybrid_4W_10_test_f.inf.response': ['好 可爱 的 狗狗 ， 好 可爱'],\n",
       " 'char_raw_10_dev_f.inf.response': ['当 一 个 老 外 迷 上 麻 将 以 后'],\n",
       " 'char_raw_10_test_f.inf.response': ['好 可 爱 的 狗 狗 狗 狗 。'],\n",
       " 'cl_hybrid_4W_10_dev_f.inf.response': ['好 可爱 的 麻将 ， 好 可爱'],\n",
       " 'cl_hybrid_4W_10_test_f.inf.response': ['好 可爱 的 狗狗 ， 好 可爱'],\n",
       " 'cnnEncDec_10_dev_f.inf.response': ['哈哈哈哈哈哈哈哈哈哈哈哈哈哈哈哈哈哈哈哈哈哈哈哈哈哈哈哈哈哈'],\n",
       " 'cnnEncDec_10_test_f.inf.response': ['好 可爱 的 狗狗 ， 太 可爱 了'],\n",
       " 'hybrid2W_10_dev_f.inf.response': ['这 就 是 中国 文化 博大 精深'],\n",
       " 'hybrid2W_10_test_f.inf.response': ['哈哈 ， 好 可爱 的 狗狗 。'],\n",
       " 'hybrid4W_10_dev_f.inf.response': ['这 不 是 老外 写 的 吗 ？'],\n",
       " 'hybrid4W_10_test_f.inf.response': ['哈哈 ， 好 可爱 的 狗狗 ！'],\n",
       " 'message': ['实拍 小狗 坐 自行车 后座 形态 端庄 ！ 那 是 相当 的 端庄 ！'],\n",
       " 'word_2W_10_dev_f.inf.response': ['<unk> ， <unk> ， <unk>'],\n",
       " 'word_2W_10_test_f.inf.response': ['太 可爱 了 ， 太 可爱 了 。'],\n",
       " 'word_4W_10_dev_f.inf.response': ['中国 文化 博大 精深 啊'],\n",
       " 'word_4W_10_test_f.inf.response': ['我 也 想 养 一 只 狗狗 。']}"
      ]
     },
     "execution_count": 16,
     "metadata": {},
     "output_type": "execute_result"
    }
   ],
   "source": [
    "all_tests"
   ]
  },
  {
   "cell_type": "code",
   "execution_count": null,
   "metadata": {
    "collapsed": true
   },
   "outputs": [],
   "source": []
  }
 ],
 "metadata": {
  "kernelspec": {
   "display_name": "Python 3",
   "language": "python",
   "name": "python3"
  },
  "language_info": {
   "codemirror_mode": {
    "name": "ipython",
    "version": 3
   },
   "file_extension": ".py",
   "mimetype": "text/x-python",
   "name": "python",
   "nbconvert_exporter": "python",
   "pygments_lexer": "ipython3",
   "version": "3.5.2"
  }
 },
 "nbformat": 4,
 "nbformat_minor": 2
}
