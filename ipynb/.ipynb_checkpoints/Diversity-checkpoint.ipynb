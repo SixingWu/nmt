{
 "cells": [
  {
   "cell_type": "code",
   "execution_count": 18,
   "metadata": {},
   "outputs": [
    {
     "name": "stdout",
     "output_type": "stream",
     "text": [
      "hybrid2W_10_dev_f.inf.response\n",
      "cl_hybrid_2W_10_test_f.inf.response\n",
      "lfw_charcnn_10_test_f.inf.response\n",
      "Subword_10_test_f.inf.response\n",
      "Submode\n",
      "Subword2_10_dev_f.inf.response\n",
      "Submode\n",
      "hybrid2W_10_test_f.inf.response\n",
      "Subword_10_dev_f.inf.response\n",
      "Submode\n",
      "hybrid4W_10_dev_f.inf.response\n",
      "cl_hybrid_4W_10_test_f.inf.response\n",
      "char_raw_10_dev_f.inf.response\n",
      "lfw_charcnn_10_dev_f.inf.response\n",
      "cnnEncDec.txt_10_test_f.inf.response\n",
      "hybrid4W_10_test_f.inf.response\n",
      "cl_hybrid_2W_10_dev_f.inf.response\n",
      "word_2W_10_dev_f.inf.response\n",
      "charCNN_hybrid_4W_10_dev_f.inf.response\n",
      "word_4W_10_test_f.inf.response\n",
      "cnnEncDec_10_dev_f.inf.response\n",
      "word_4W_10_dev_f.inf.response\n",
      "charCNN_hybrid_2W_10_dev_f.inf.response\n",
      "Subword2_10_test_f.inf.response\n",
      "Submode\n",
      "charCNN_hybrid_2W_10_test_f.inf.response\n",
      "char_raw_10_test_f.inf.response\n",
      "word_2W_10_test_f.inf.response\n",
      "cnnEncDec_10_test_f.inf.response\n",
      "DLF_hybrid_4W_10_test_f.inf.response\n",
      "charCNN_hybrid_4W_10_test_f.inf.response\n",
      "cl_hybrid_4W_10_dev_f.inf.response\n",
      "cnnEncDec.txt_10_dev_f.inf.response\n",
      "DLF_hybrid_4W_10_dev_f.inf.response\n",
      "0.12818079797085846\n",
      "0.12685705325939797\n",
      "0.07555651031955771\n",
      "0.07572257842681175\n",
      "0.1309626730255845\n",
      "0.12869520054769942\n",
      "0.16047157849299917\n",
      "0.15901695864847976\n",
      "0.17369076701557976\n",
      "0.17311836668557076\n",
      "0.17625284738041003\n",
      "0.17780709233549438\n",
      "0.1754857898938206\n",
      "0.1746785640535165\n",
      "0.17491526150941777\n",
      "0.17308978811994583\n",
      "0.07386686058486513\n",
      "0.07393672306988733\n",
      "0.1676249830646254\n",
      "0.1656002990524588\n",
      "0.1803479812625474\n",
      "0.18104564755838642\n",
      "0.17398041237664233\n",
      "0.17439386363394577\n"
     ]
    }
   ],
   "source": [
    "import os\n",
    "\n",
    "files = os.listdir('../beam_search')\n",
    "results = dict()\n",
    "for file_name in files:\n",
    "    if '10' in file_name and 'response' in file_name:\n",
    "        print(file_name)\n",
    "        try:\n",
    "            with open('../beam_search/'+file_name, encoding='utf-8') as fin:\n",
    "                lines = fin.readlines()\n",
    "                total = 0\n",
    "                unique = set()\n",
    "                \n",
    "                if 'Subword' in file_name:\n",
    "                    print('Submode')\n",
    "                for line in lines:\n",
    "                    if 'Subword' in file_name:\n",
    "                        line = line.strip('\\n').replace('@@ ','')\n",
    "                    elif 'cnnEncDec' in file_name:\n",
    "                        line = line.strip('\\n').replace(' ','').replace('@@',' ')\n",
    "                    else:\n",
    "                        line = line.strip('\\n').replace('@@','').replace('  ','')\n",
    "                    #line = line.replace(' ','')\n",
    "                    line = line.split()\n",
    "                    tokens = list(line)\n",
    "#                     if total < 2:\n",
    "#                         print(line)\n",
    "                    #tokens = line.split()\n",
    "                    for i in range(len(tokens)-1):\n",
    "                        unique.add('\\t'.join(tokens[i:i+2]))\n",
    "                        total +=1\n",
    "                results[file_name] = (len(unique) / total)\n",
    "        except Exception as e:\n",
    "            print('break down  '+str(e)+file_name )\n",
    "            \n",
    "sorted_res = sorted(results.items(),key = lambda x:x[0])\n",
    "orders = ['char_raw_10_dev_f.inf.response','char_raw_10_test_f.inf.response',\n",
    "         'word_2W_10_dev_f.inf.response','word_2W_10_test_f.inf.response',\n",
    "         'word_4W_10_dev_f.inf.response','word_4W_10_test_f.inf.response',\n",
    "          'hybrid2W_10_dev_f.inf.response','hybrid2W_10_test_f.inf.response',\n",
    "          'hybrid4W_10_dev_f.inf.response','hybrid4W_10_test_f.inf.response',\n",
    "          'cl_hybrid_4W_10_dev_f.inf.response','cl_hybrid_4W_10_test_f.inf.response',\n",
    "          'charCNN_hybrid_2W_10_dev_f.inf.response','charCNN_hybrid_2W_10_test_f.inf.response',\n",
    "          'charCNN_hybrid_4W_10_dev_f.inf.response','charCNN_hybrid_4W_10_test_f.inf.response',\n",
    "          'cnnEncDec_10_dev_f.inf.response','cnnEncDec_10_test_f.inf.response',\n",
    "          'Subword2_10_dev_f.inf.response', 'Subword2_10_test_f.inf.response',\n",
    "          'DLF_hybrid_4W_10_dev_f.inf.response', 'DLF_hybrid_4W_10_test_f.inf.response',\n",
    "          'lfw_charcnn_10_dev_f.inf.response', 'lfw_charcnn_10_test_f.inf.response',\n",
    "         ]\n",
    "for order in orders:\n",
    "    print(results[order])"
   ]
  },
  {
   "cell_type": "code",
   "execution_count": 3,
   "metadata": {},
   "outputs": [
    {
     "data": {
      "text/plain": [
       "<generator object walk at 0x7fb6dc3b8d00>"
      ]
     },
     "execution_count": 3,
     "metadata": {},
     "output_type": "execute_result"
    }
   ],
   "source": [
    "files"
   ]
  },
  {
   "cell_type": "code",
   "execution_count": null,
   "metadata": {
    "collapsed": true
   },
   "outputs": [],
   "source": []
  }
 ],
 "metadata": {
  "kernelspec": {
   "display_name": "Python 3",
   "language": "python",
   "name": "python3"
  },
  "language_info": {
   "codemirror_mode": {
    "name": "ipython",
    "version": 3
   },
   "file_extension": ".py",
   "mimetype": "text/x-python",
   "name": "python",
   "nbconvert_exporter": "python",
   "pygments_lexer": "ipython3",
   "version": "3.5.2"
  }
 },
 "nbformat": 4,
 "nbformat_minor": 2
}
