{
 "cells": [
  {
   "cell_type": "code",
   "execution_count": 1,
   "metadata": {
    "collapsed": true
   },
   "outputs": [],
   "source": [
    "# 根据BPE文件生成对应的字典，方便后面运行"
   ]
  },
  {
   "cell_type": "code",
   "execution_count": 7,
   "metadata": {
    "collapsed": true
   },
   "outputs": [],
   "source": [
    "from collections import defaultdict\n",
    "\n",
    "def build_vocab(path,out_path):\n",
    "    counter = defaultdict(int)\n",
    "    total = 0\n",
    "    with open(path,'r',encoding='utf-8') as fin:\n",
    "        lines = fin.readlines()\n",
    "        token_set = set()\n",
    "        total = len(lines)\n",
    "        for line in lines:\n",
    "            items = line.strip('\\n').split()\n",
    "            counter[len(items)] += 1\n",
    "            for item in items:\n",
    "                token_set.add(item)\n",
    "    sorted_items = sorted(counter, key = lambda x:x[0])\n",
    "    sums = 0;\n",
    "    for item in sorted_items:\n",
    "        sums += item[1]\n",
    "        print(\"%d/%f\" % (item[0], sums/total))\n",
    "    with open(out_path,'w+',encoding='utf-8') as fout:\n",
    "        for token in token_set:\n",
    "            fout.write('%s\\n' % token)\n",
    "    "
   ]
  },
  {
   "cell_type": "code",
   "execution_count": 9,
   "metadata": {},
   "outputs": [],
   "source": [
    "build_vocab('../data/bpelevel/train.message','../data/bpelevel/vocab.40000.separate.message')"
   ]
  },
  {
   "cell_type": "code",
   "execution_count": null,
   "metadata": {
    "collapsed": true
   },
   "outputs": [],
   "source": []
  }
 ],
 "metadata": {
  "kernelspec": {
   "display_name": "Python 3",
   "language": "python",
   "name": "python3"
  },
  "language_info": {
   "codemirror_mode": {
    "name": "ipython",
    "version": 3
   },
   "file_extension": ".py",
   "mimetype": "text/x-python",
   "name": "python",
   "nbconvert_exporter": "python",
   "pygments_lexer": "ipython3",
   "version": "3.5.2"
  }
 },
 "nbformat": 4,
 "nbformat_minor": 2
}
