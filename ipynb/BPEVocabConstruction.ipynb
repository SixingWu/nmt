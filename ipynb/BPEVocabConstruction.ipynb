{
 "cells": [
  {
   "cell_type": "code",
   "execution_count": 1,
   "metadata": {
    "collapsed": true
   },
   "outputs": [],
   "source": [
    "# 根据BPE文件生成对应的字典，方便后面运行"
   ]
  },
  {
   "cell_type": "code",
   "execution_count": 6,
   "metadata": {
    "collapsed": true
   },
   "outputs": [],
   "source": [
    "def build_vocab(path,out_path):\n",
    "    with open(path,'r',encoding='utf-8') as fin:\n",
    "        lines = fin.readlines()\n",
    "        token_set = set()\n",
    "        for line in lines:\n",
    "            items = line.strip('\\n').split()\n",
    "            for item in items:\n",
    "                token_set.add(item)\n",
    "    with open(out_path,'w+',encoding='utf-8') as fout:\n",
    "        for token in token_set:\n",
    "            fout.write('%s\\n' % token)\n",
    "    "
   ]
  },
  {
   "cell_type": "code",
   "execution_count": 5,
   "metadata": {},
   "outputs": [],
   "source": [
    "build_vocab('../data/bpelevel/train.response','../data/bpelevel/vocab.40000.separate.response')"
   ]
  },
  {
   "cell_type": "code",
   "execution_count": null,
   "metadata": {
    "collapsed": true
   },
   "outputs": [],
   "source": []
  }
 ],
 "metadata": {
  "kernelspec": {
   "display_name": "Python 3",
   "language": "python",
   "name": "python3"
  },
  "language_info": {
   "codemirror_mode": {
    "name": "ipython",
    "version": 3
   },
   "file_extension": ".py",
   "mimetype": "text/x-python",
   "name": "python",
   "nbconvert_exporter": "python",
   "pygments_lexer": "ipython3",
   "version": "3.5.2"
  }
 },
 "nbformat": 4,
 "nbformat_minor": 2
}
