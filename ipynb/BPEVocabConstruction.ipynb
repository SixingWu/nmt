{
 "cells": [
  {
   "cell_type": "code",
   "execution_count": 1,
   "metadata": {
    "collapsed": true
   },
   "outputs": [],
   "source": [
    "# 根据BPE文件生成对应的字典，方便后面运行"
   ]
  },
  {
   "cell_type": "code",
   "execution_count": 13,
   "metadata": {
    "collapsed": true
   },
   "outputs": [],
   "source": [
    "from collections import defaultdict\n",
    "\n",
    "def build_vocab(path,out_path):\n",
    "    counter = defaultdict(int)\n",
    "    total = 0\n",
    "    with open(path,'r',encoding='utf-8') as fin:\n",
    "        lines = fin.readlines()\n",
    "        token_set = set()\n",
    "        total = len(lines)\n",
    "        for line in lines:\n",
    "            items = line.strip('\\n').split()\n",
    "            counter[len(items)] += 1\n",
    "            for item in items:\n",
    "                token_set.add(item)\n",
    "    sorted_items = sorted(counter.items(), key = lambda x:x[0])\n",
    "    sums = 0;\n",
    "    for item in sorted_items:\n",
    "        sums += item[1]\n",
    "        print(\"%d/%f\" % (item[0], sums/total))\n",
    "    with open(out_path,'w+',encoding='utf-8') as fout:\n",
    "        for token in token_set:\n",
    "            fout.write('%s\\n' % token)\n",
    "    "
   ]
  },
  {
   "cell_type": "code",
   "execution_count": 14,
   "metadata": {},
   "outputs": [
    {
     "name": "stdout",
     "output_type": "stream",
     "text": [
      "2/0.006284\n",
      "3/0.031210\n",
      "4/0.070440\n",
      "5/0.117602\n",
      "6/0.167967\n",
      "7/0.218157\n",
      "8/0.267265\n",
      "9/0.314283\n",
      "10/0.359670\n",
      "11/0.402595\n",
      "12/0.443166\n",
      "13/0.481904\n",
      "14/0.518844\n",
      "15/0.554095\n",
      "16/0.587949\n",
      "17/0.620556\n",
      "18/0.652198\n",
      "19/0.683328\n",
      "20/0.713824\n",
      "21/0.743776\n",
      "22/0.773561\n",
      "23/0.802360\n",
      "24/0.830558\n",
      "25/0.857755\n",
      "26/0.883180\n",
      "27/0.906430\n",
      "28/0.926937\n",
      "29/0.944407\n",
      "30/0.958873\n",
      "31/0.970252\n",
      "32/0.979069\n",
      "33/0.985659\n",
      "34/0.990352\n",
      "35/0.993606\n",
      "36/0.995813\n",
      "37/0.997254\n",
      "38/0.998215\n",
      "39/0.998831\n",
      "40/0.999226\n",
      "41/0.999490\n",
      "42/0.999649\n",
      "43/0.999753\n",
      "44/0.999822\n",
      "45/0.999866\n",
      "46/0.999898\n",
      "47/0.999921\n",
      "48/0.999938\n",
      "49/0.999951\n",
      "50/0.999959\n",
      "51/0.999964\n",
      "52/0.999969\n",
      "53/0.999974\n",
      "54/0.999977\n",
      "55/0.999980\n",
      "56/0.999983\n",
      "57/0.999987\n",
      "58/0.999988\n",
      "59/0.999991\n",
      "60/0.999993\n",
      "61/0.999995\n",
      "63/0.999996\n",
      "65/0.999996\n",
      "66/0.999997\n",
      "70/0.999998\n",
      "72/0.999998\n",
      "75/0.999998\n",
      "76/0.999999\n",
      "77/1.000000\n",
      "91/1.000000\n"
     ]
    }
   ],
   "source": [
    "build_vocab('../data/enbpelevel/train.response','../data/enbpelevel/vocab.40000.separate.response')"
   ]
  },
  {
   "cell_type": "code",
   "execution_count": null,
   "metadata": {
    "collapsed": true
   },
   "outputs": [],
   "source": []
  }
 ],
 "metadata": {
  "kernelspec": {
   "display_name": "Python 3",
   "language": "python",
   "name": "python3"
  },
  "language_info": {
   "codemirror_mode": {
    "name": "ipython",
    "version": 3
   },
   "file_extension": ".py",
   "mimetype": "text/x-python",
   "name": "python",
   "nbconvert_exporter": "python",
   "pygments_lexer": "ipython3",
   "version": "3.5.2"
  }
 },
 "nbformat": 4,
 "nbformat_minor": 2
}
