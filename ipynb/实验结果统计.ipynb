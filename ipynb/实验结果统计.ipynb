{
 "cells": [
  {
   "cell_type": "markdown",
   "metadata": {},
   "source": [
    "# 统计词频m"
   ]
  },
  {
   "cell_type": "code",
   "execution_count": 1,
   "metadata": {},
   "outputs": [
    {
     "name": "stdout",
     "output_type": "stream",
     "text": [
      "total lines: 4435959\n"
     ]
    }
   ],
   "source": [
    "from collections import defaultdict\n",
    "word_counter = defaultdict(int)\n",
    "\n",
    "in_path = '/ldev/tensorflow/seq2seq/rawdata/DiaTest/'\n",
    "\n",
    "message_path = in_path + 'huaweiFull.message'\n",
    "response_path = in_path + 'huaweiFull.response'\n",
    "\n",
    "messages = []\n",
    "responses = []\n",
    "with open(message_path,'r+',encoding='utf-8') as fin:\n",
    "    lines = fin.readlines()\n",
    "    messages = [line.strip('\\n') for line in lines]\n",
    "    for line in messages:\n",
    "        for word in line.split():\n",
    "            word_counter[word] += 1\n",
    "\n",
    "with open(response_path,'r+',encoding='utf-8') as fin:\n",
    "    lines = fin.readlines()\n",
    "    responses = [line.strip('\\n') for line in lines]\n",
    "    for line in responses:\n",
    "        for word in line.split():\n",
    "            word_counter[word] += 1\n",
    "\n",
    "assert len(messages) == len(responses)\n",
    "\n",
    "print('total lines: %d' % (len(messages)))"
   ]
  },
  {
   "cell_type": "code",
   "execution_count": 21,
   "metadata": {},
   "outputs": [
    {
     "name": "stdout",
     "output_type": "stream",
     "text": [
      "今天晚上怎么了，就是睡不着。\n",
      "每个月就有那么个日子睡不着\n",
      "------\n",
      "胜利了！很开心！继续努力\n",
      "今天打的不错继续加油。\n",
      "------\n",
      "牛人自制LED钟表，赞啊！\n",
      "民间就是藏龙卧虎啊！\n",
      "------\n"
     ]
    }
   ],
   "source": [
    "cases = [1111,55555,98372]\n",
    "for case in cases:\n",
    "    print(messages[case].replace(' ',''))\n",
    "    print(responses[case].replace(' ',''))\n",
    "    print('------')"
   ]
  },
  {
   "cell_type": "markdown",
   "metadata": {},
   "source": [
    "# 根据词频画图"
   ]
  },
  {
   "cell_type": "code",
   "execution_count": 34,
   "metadata": {
    "collapsed": true
   },
   "outputs": [],
   "source": [
    "import matplotlib.pyplot as plt\n",
    "import math\n",
    "\n",
    "sorted_word_counter = sorted(word_counter.items(), key=lambda x:x[1], reverse= True)\n",
    "\n",
    "freq_distribution = []\n",
    "for item in sorted_word_counter:\n",
    "    freq_distribution.append(math.log(item[1]+0.0))"
   ]
  },
  {
   "cell_type": "code",
   "execution_count": 76,
   "metadata": {},
   "outputs": [
    {
     "name": "stderr",
     "output_type": "stream",
     "text": [
      "/home/v-sixwu/.local/lib/python3.5/site-packages/matplotlib/font_manager.py:1297: UserWarning: findfont: Font family ['sans-serif'] not found. Falling back to DejaVu Sans\n",
      "  (prop.get_family(), self.defaultFamily[fontext]))\n"
     ]
    },
    {
     "data": {
      "image/png": "[encoded data removed]",
      "text/plain": [
       "<matplotlib.figure.Figure at 0x7f2451628c88>"
      ]
     },
     "metadata": {},
     "output_type": "display_data"
    }
   ],
   "source": [
    "plt.figure()\n",
    "plt.plot(freq_distribution)\n",
    "params = {\n",
    "#             'axes.labelsize': '16',\n",
    "#             'xtick.labelsize': '16',\n",
    "#             'ytick.labelsize': '13',\n",
    "            'lines.linewidth': '2',\n",
    "            #'legend.fontsize': '20',\n",
    "            'figure.figsize': '15,7',  # set figure size\n",
    "        }\n",
    "plt.rcParams.update(params)\n",
    "plt.xlabel('Word Rank')\n",
    "plt.ylabel('Log-Frequency ')\n",
    "plt.title('Log-Word Frequency Dirstribution')\n",
    "plt.show()"
   ]
  },
  {
   "cell_type": "code",
   "execution_count": 77,
   "metadata": {},
   "outputs": [
    {
     "name": "stdout",
     "output_type": "stream",
     "text": [
      "total Words: 708316\n",
      "total Word Counts : 105935497\n"
     ]
    }
   ],
   "source": [
    "print('total Words: %d' % len(sorted_word_counter))\n",
    "word_counts = 0\n",
    "for item in sorted_word_counter:\n",
    "    word_counts += item[1]\n",
    "print('total Word Counts : %d' % word_counts)"
   ]
  },
  {
   "cell_type": "markdown",
   "metadata": {
    "collapsed": true
   },
   "source": [
    "# Data Coverage"
   ]
  },
  {
   "cell_type": "code",
   "execution_count": 90,
   "metadata": {
    "collapsed": true
   },
   "outputs": [],
   "source": [
    "vocab_nums = [5000,10000,20000,40000,80000,160000]\n",
    "vals = []\n",
    "for vocab in vocab_nums:\n",
    "    counts = 0\n",
    "    for item in sorted_word_counter[0:vocab]:\n",
    "        counts += item[1]\n",
    "    counts += 0.0\n",
    "    vals.append(counts / word_counts)"
   ]
  },
  {
   "cell_type": "code",
   "execution_count": 91,
   "metadata": {},
   "outputs": [
    {
     "name": "stderr",
     "output_type": "stream",
     "text": [
      "/home/v-sixwu/.local/lib/python3.5/site-packages/matplotlib/font_manager.py:1297: UserWarning: findfont: Font family ['sans-serif'] not found. Falling back to DejaVu Sans\n",
      "  (prop.get_family(), self.defaultFamily[fontext]))\n"
     ]
    },
    {
     "data": {
      "image/png": "[encoded data removed]",
      "text/plain": [
       "<matplotlib.figure.Figure at 0x7f24514cd4e0>"
      ]
     },
     "metadata": {},
     "output_type": "display_data"
    }
   ],
   "source": [
    "plt.figure()\n",
    "plt.plot(vocab_nums,vals,'*-')\n",
    "params = {\n",
    "#             'axes.labelsize': '16',\n",
    "#             'xtick.labelsize': '16',\n",
    "#             'ytick.labelsize': '13',\n",
    "            'lines.linewidth': '2',\n",
    "            #'legend.fontsize': '20',\n",
    "            'figure.figsize': '15,7',  # set figure size\n",
    "        }\n",
    "plt.rcParams.update(params)\n",
    "plt.xlabel('Vocab Size')\n",
    "plt.ylabel('Coverage ')\n",
    "plt.title('Data Coverage')\n",
    "plt.show()"
   ]
  },
  {
   "cell_type": "code",
   "execution_count": 92,
   "metadata": {},
   "outputs": [
    {
     "name": "stdout",
     "output_type": "stream",
     "text": [
      "0.85,0.90,0.94,0.97,0.98,0.99\n"
     ]
    }
   ],
   "source": [
    "print( ','.join('%.2f' % x for x in vals))"
   ]
  },
  {
   "cell_type": "markdown",
   "metadata": {
    "collapsed": true
   },
   "source": [
    "# 样例分析"
   ]
  },
  {
   "cell_type": "code",
   "execution_count": 23,
   "metadata": {},
   "outputs": [],
   "source": [
    "# 加载语料\n",
    "\n",
    "all_corpus = ['word_2W_test.txt','word_4W_test.txt','hybrid_2W_test.txt','hybrid_4W_test.txt','lfw_hybrid_2W_test.txt','lfw_hybrid_4W_test.txt']\n",
    "texts = []\n",
    "for corpus in all_corpus:\n",
    "    with open('/ldev/tensorflow/nmt2/nmt/decoded/'+corpus,'r',encoding='utf-8') as fin:\n",
    "        lines = fin.readlines()\n",
    "        texts.append(lines)"
   ]
  },
  {
   "cell_type": "code",
   "execution_count": 26,
   "metadata": {},
   "outputs": [],
   "source": [
    "# 对照语料\n",
    "\n",
    "messages =  open('/ldev/tensorflow/nmt2/nmt/data/wordlevel/test.message','r',encoding='utf-8').readlines()\n",
    "response =  open('/ldev/tensorflow/nmt2/nmt/data/wordlevel/test.message','r',encoding='utf-8').readlines()"
   ]
  },
  {
   "cell_type": "code",
   "execution_count": 144,
   "metadata": {},
   "outputs": [
    {
     "name": "stdout",
     "output_type": "stream",
     "text": [
      "######\n",
      "会呼吸的雕塑。透明的质感，柔软的线条让人惊叹。\n",
      "人生如戏，全靠演技。\n",
      "<unk><unk>，<unk>。\n",
      "喜欢这种风格的作品\n",
      "好漂亮啊，好喜欢。\n",
      "好美的雕塑，好美。\n",
      "好美，好美，好美。\n",
      "喜欢这种风格，很美。\n",
      "######\n",
      "美院喵星人伪装得很深啊\n",
      "也说也做才是王道好吧。\n",
      "最后一张是<unk>？\n",
      "我也想养一只喵星人\n",
      "喵星人伪装得很好。\n",
      "太有才了，太有才了\n",
      "喵星人伪装得很到位\n",
      "喵星人伪装得很到位\n",
      "######\n",
      "这样都能睡着……跪了……\n",
      "同意，总是喜欢外表奢华内脏糜烂\n",
      "我想知道这是什么品种\n",
      "我也睡着了，<unk>\n",
      "我也是这样睡着的。\n",
      "这也太有爱了吧。！\n",
      "我也想要这样一个这样的人\n",
      "这才是真正的人才啊\n",
      "######\n",
      "保加利亚总理送给普京保加利亚牧羊犬。好萌。「图转」\n",
      "中美同发，居心叵测\n",
      "最后一张是<unk>？\n",
      "好可爱的狗狗啊。\n",
      "这种牧@@羊@@犬是什么品种？\n",
      "普京的眼神好可爱！\n",
      "好想养一只这样的狗狗\n",
      "好可爱的狗狗，好可爱\n"
     ]
    }
   ],
   "source": [
    "cases = [17,555,116,455]\n",
    "def mygrint(x):\n",
    "    print(x.strip('\\n').replace(\" \",\"\"))\n",
    "for case in cases:\n",
    "    mygrint('######')\n",
    "    mygrint(messages[case])\n",
    "    mygrint(responses[case])\n",
    "    for text in texts:\n",
    "        mygrint(text[case])\n",
    "        \n",
    "# cases = range(400,500)\n",
    "# def mygrint(x):\n",
    "#     print(x.strip('\\n').replace(\" \",\"\"))\n",
    "# for case in cases:\n",
    "#     mygrint('######'+str(case))\n",
    "#     mygrint(messages[case])\n",
    "#     mygrint(responses[case])\n",
    "#     for text in texts:\n",
    "#         mygrint(text[case])"
   ]
  },
  {
   "cell_type": "code",
   "execution_count": null,
   "metadata": {
    "collapsed": true
   },
   "outputs": [],
   "source": []
  }
 ],
 "metadata": {
  "kernelspec": {
   "display_name": "Python 3",
   "language": "python",
   "name": "python3"
  },
  "language_info": {
   "codemirror_mode": {
    "name": "ipython",
    "version": 3
   },
   "file_extension": ".py",
   "mimetype": "text/x-python",
   "name": "python",
   "nbconvert_exporter": "python",
   "pygments_lexer": "ipython3",
   "version": "3.5.2"
  }
 },
 "nbformat": 4,
 "nbformat_minor": 2
}
