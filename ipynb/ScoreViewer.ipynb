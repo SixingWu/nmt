{
 "cells": [
  {
   "cell_type": "code",
   "execution_count": 6,
   "metadata": {
    "scrolled": true
   },
   "outputs": [
    {
     "name": "stdout",
     "output_type": "stream",
     "text": [
      "        cn_albpe.test.txt\t11.123504 10.596344 5.270375 3.533035 2.730266 7.566871 30.078722\n",
      "     cn_rnn_hlat.test.txt\t11.053025 10.598551 5.279388 3.581049 2.785393 8.464347 31.487335\n",
      "          cn_hl1.test.txt\t10.905469 10.509864 5.217107 3.498319 2.692668 7.973836 29.026198\n",
      "    chinese_lstm.test.txt\t9.420771 7.857844 3.971247 2.789596 2.261812 6.818666 26.017521\n",
      "       cnnencdec.test.txt\t10.321578 11.100799 5.039752 3.137974 2.265046 5.687743 25.492120\n",
      "      cn_rnn_hl1.test.txt\t11.196996 10.585790 5.191320 3.459492 2.663224 8.342554 31.116526\n",
      "chinese_char_lstm.test.txt\t10.705561 10.676691 5.317738 3.592357 2.790228 9.600193 39.191642\n",
      "           cn_hl.test.txt\t10.453554 9.680340 4.816366 3.224698 2.483806 7.868233 29.229195\n",
      "        bpe_lstm.test.txt\t10.951607 10.484954 5.217030 3.507317 2.711390 7.926956 30.826218\n"
     ]
    }
   ],
   "source": [
    "import os\n",
    "\n",
    "files = os.listdir('../infer_test/scores')\n",
    "for file in files:\n",
    "    if 'ipynb_checkpoints' in file:\n",
    "        continue\n",
    "    model_id = file\n",
    "    vals = []\n",
    "    with open('../infer_test/scores/'+file) as fin:\n",
    "        lines = fin.readlines();\n",
    "        for line in lines:\n",
    "            items = line.strip('\\n').split('\\t')\n",
    "            vals.append(items[1])\n",
    "    if(len(vals) > 3):\n",
    "        print('%25s\\t%s' % (model_id,' '.join(vals)))"
   ]
  },
  {
   "cell_type": "code",
   "execution_count": null,
   "metadata": {
    "collapsed": true
   },
   "outputs": [],
   "source": [
    "# 把CN_HL1改成 Character-LEvel的模型"
   ]
  },
  {
   "cell_type": "code",
   "execution_count": null,
   "metadata": {
    "collapsed": true
   },
   "outputs": [],
   "source": []
  }
 ],
 "metadata": {
  "kernelspec": {
   "display_name": "Python 3",
   "language": "python",
   "name": "python3"
  },
  "language_info": {
   "codemirror_mode": {
    "name": "ipython",
    "version": 3
   },
   "file_extension": ".py",
   "mimetype": "text/x-python",
   "name": "python",
   "nbconvert_exporter": "python",
   "pygments_lexer": "ipython3",
   "version": "3.5.2"
  }
 },
 "nbformat": 4,
 "nbformat_minor": 2
}
