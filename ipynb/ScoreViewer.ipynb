{
 "cells": [
  {
   "cell_type": "code",
   "execution_count": 56,
   "metadata": {
    "scrolled": true
   },
   "outputs": [
    {
     "name": "stdout",
     "output_type": "stream",
     "text": [
      "            HLEncDecDev10\t11.030049 10.291258 5.150422 3.480029 2.708796 7.065959 26.578412\n",
      "            HLEncDecTest1\t11.872127 13.569709 5.790867 3.468094 2.467940 4.614594 17.328865\n",
      "           HLEncDecTest10\t10.941700 10.340337 5.087709 3.390148 2.605164 7.017667 26.168255\n",
      "        HLEncDecCharTest1\t12.653635 13.581134 7.246364 4.699749 3.408601 1.064549 12.497227\n",
      "       HLEncDecCharTest10\t12.177973 11.203998 6.657825 4.634701 3.554810 1.392307 17.308979\n",
      "         HLEncDecCharDev1\t12.558918 13.420957 7.218583 4.721324 3.464832 1.090206 12.716576\n",
      "        HLEncDecCharDev10\t12.171094 11.102316 6.656151 4.693983 3.642087 1.423064 17.491526\n",
      "             HLEncDecDev1\t11.836176 13.454078 5.836888 3.546805 2.556214 4.707262 17.619786\n"
     ]
    }
   ],
   "source": [
    "### import os\n",
    "\n",
    "files = os.listdir('../infer_test/scores')\n",
    "for file in files:\n",
    "    if 'ipynb_checkpoints' in file:\n",
    "        continue\n",
    "    model_id = file\n",
    "    vals = []\n",
    "    with open('../infer_test/scores/'+file) as fin:\n",
    "        lines = fin.readlines();\n",
    "        for line in lines:\n",
    "            items = line.strip('\\n').split('\\t')\n",
    "            vals.append(items[1])\n",
    "    print('%25s\\t%s' % (model_id,' '.join(vals)))"
   ]
  },
  {
   "cell_type": "code",
   "execution_count": null,
   "metadata": {
    "collapsed": true
   },
   "outputs": [],
   "source": []
  },
  {
   "cell_type": "code",
   "execution_count": null,
   "metadata": {
    "collapsed": true
   },
   "outputs": [],
   "source": []
  }
 ],
 "metadata": {
  "kernelspec": {
   "display_name": "Python 3",
   "language": "python",
   "name": "python3"
  },
  "language_info": {
   "codemirror_mode": {
    "name": "ipython",
    "version": 3
   },
   "file_extension": ".py",
   "mimetype": "text/x-python",
   "name": "python",
   "nbconvert_exporter": "python",
   "pygments_lexer": "ipython3",
   "version": "3.5.2"
  }
 },
 "nbformat": 4,
 "nbformat_minor": 2
}
