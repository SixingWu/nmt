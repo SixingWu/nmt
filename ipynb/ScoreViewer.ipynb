{
 "cells": [
  {
   "cell_type": "code",
   "execution_count": 20,
   "metadata": {
    "scrolled": true
   },
   "outputs": [
    {
     "name": "stdout",
     "output_type": "stream",
     "text": [
      "        en_albpe.test.txt\t8.658865 6.841545 3.163500 1.778407 1.019613 2.349610 8.325054\n",
      "     enword_lstm.test.txt\t8.719930 6.295678 2.961243 1.664793 0.927291 0.852972 2.462723\n",
      "         en_alhw.test.txt\t8.425206 6.194854 2.874051 1.656729 0.981136 2.856188 9.625024\n",
      "       cnnencdec.test.txt\t10.321578 11.100799 5.039752 3.137974 2.265046 5.687743 25.492120\n",
      "      enbpe_lstm.test.txt\t8.800037 6.799224 3.033122 1.701542 0.985350 0.542344 1.462142\n",
      "           en_hl.test.txt\t6.284590 4.331731 2.147284 1.167190 0.461328 0.009707 0.012289\n"
     ]
    }
   ],
   "source": [
    "import os\n",
    "\n",
    "files = os.listdir('../infer_test/scores')\n",
    "for file in files:\n",
    "    if 'ipynb_checkpoints' in file or 'en' not in file:\n",
    "        continue\n",
    "    model_id = file\n",
    "    vals = []\n",
    "    with open('../infer_test/scores/'+file) as fin:\n",
    "        lines = fin.readlines();\n",
    "        for line in lines:\n",
    "            items = line.strip('\\n').split('\\t')\n",
    "            vals.append(items[1])\n",
    "    if(len(vals) > 3):\n",
    "        print('%25s\\t%s' % (model_id,' '.join(vals)))"
   ]
  },
  {
   "cell_type": "code",
   "execution_count": 12,
   "metadata": {
    "collapsed": true
   },
   "outputs": [],
   "source": [
    "# 把CN_HL1改成 Character-LEvel的模型"
   ]
  },
  {
   "cell_type": "code",
   "execution_count": null,
   "metadata": {
    "collapsed": true
   },
   "outputs": [],
   "source": []
  }
 ],
 "metadata": {
  "kernelspec": {
   "display_name": "Python 3",
   "language": "python",
   "name": "python3"
  },
  "language_info": {
   "codemirror_mode": {
    "name": "ipython",
    "version": 3
   },
   "file_extension": ".py",
   "mimetype": "text/x-python",
   "name": "python",
   "nbconvert_exporter": "python",
   "pygments_lexer": "ipython3",
   "version": "3.5.2"
  }
 },
 "nbformat": 4,
 "nbformat_minor": 2
}
