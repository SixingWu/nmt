{
 "cells": [
  {
   "cell_type": "code",
   "execution_count": 47,
   "metadata": {
    "scrolled": true
   },
   "outputs": [
    {
     "name": "stdout",
     "output_type": "stream",
     "text": [
      "  enal_light2.test.10.txt\t5.306158 3.109352 0.952031 0.420488 0.214698 1.463850 5.051139\n",
      "enword_light2.test.10.txt\t5.505288 3.898910 1.144524 0.427690 0.194628 0.926011 3.197485\n",
      "  en_hl_light2.test.5.txt\t5.986283 4.953054 1.543398 0.629464 0.289816 1.336979 4.410909\n",
      " enbpe_light2.test.10.txt\t5.589987 3.941353 1.152286 0.457350 0.216212 1.622355 5.932877\n",
      " en_hl_light2.test.10.txt\t5.472569 3.755648 1.191812 0.515674 0.250707 1.342182 4.105948\n",
      " enword_light2.test.5.txt\t5.839703 4.873289 1.390709 0.520095 0.228262 0.887059 3.192923\n",
      "  enbpe_light2.test.5.txt\t6.097711 4.974709 1.407290 0.521729 0.233004 1.630504 6.062434\n",
      "   enal_light2.test.5.txt\t5.940139 4.096889 1.254206 0.526821 0.258745 1.532098 5.556441\n"
     ]
    }
   ],
   "source": [
    "import os\n",
    "\n",
    "files = os.listdir('../infer_test/scores')\n",
    "for file in files:\n",
    "    if 'ipynb_checkpoints' in file or 'light2' not in file:\n",
    "        continue\n",
    "    model_id = file\n",
    "    vals = []\n",
    "    with open('../infer_test/scores/'+file) as fin:\n",
    "        lines = fin.readlines();\n",
    "        for line in lines:\n",
    "            items = line.strip('\\n').split('\\t')\n",
    "            vals.append(items[1])\n",
    "    if(len(vals) > 3):\n",
    "        print('%25s\\t%s' % (model_id,' '.join(vals)))"
   ]
  },
  {
   "cell_type": "code",
   "execution_count": 34,
   "metadata": {
    "collapsed": true
   },
   "outputs": [],
   "source": [
    "# 把CN_HL1改成 Character-LEvel的模型"
   ]
  },
  {
   "cell_type": "code",
   "execution_count": null,
   "metadata": {
    "collapsed": true
   },
   "outputs": [],
   "source": []
  }
 ],
 "metadata": {
  "kernelspec": {
   "display_name": "Python 3",
   "language": "python",
   "name": "python3"
  },
  "language_info": {
   "codemirror_mode": {
    "name": "ipython",
    "version": 3
   },
   "file_extension": ".py",
   "mimetype": "text/x-python",
   "name": "python",
   "nbconvert_exporter": "python",
   "pygments_lexer": "ipython3",
   "version": "3.5.2"
  }
 },
 "nbformat": 4,
 "nbformat_minor": 2
}
