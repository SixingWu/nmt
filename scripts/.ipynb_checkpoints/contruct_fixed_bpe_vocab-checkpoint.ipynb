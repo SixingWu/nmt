{
 "cells": [
  {
   "cell_type": "code",
   "execution_count": 16,
   "metadata": {
    "collapsed": true
   },
   "outputs": [],
   "source": [
    "import os\n",
    "\n",
    "\n",
    "def count(path):\n",
    "    with open(path,'r',encoding='utf-8') as fin:\n",
    "        lines = fin.readlines()\n",
    "        token_set = set()\n",
    "        for line in lines:\n",
    "            items = line.strip('\\n').split()\n",
    "            for item in items:\n",
    "                token_set.add(item)\n",
    "        return len(token_set)\n",
    "def worker(input_path,output_path,bpe_path,bpe_symbols=40000,target_symbols=40000):\n",
    "    while True:\n",
    "        print('python learn_bpe.py -i %s -o %s -s %d' % (input_path,bpe_path,bpe_symbols))\n",
    "        print(os.system('python learn_bpe.py -i %s -o %s -s %d' % (input_path,bpe_path,bpe_symbols)))\n",
    "        print('python3 apply_bpe.py -i %s -c %s -o %s' % (input_path,bpe_path,output_path))\n",
    "        print(os.system('python3 apply_bpe.py -i %s -c %s -o %s' % (input_path,bpe_path,output_path)))\n",
    "        now_count = count(output_path)\n",
    "        print('%d/%d' % (now_count,target_symbols))\n",
    "        if now_count == target_symbols:\n",
    "            print('Done')\n",
    "            break\n",
    "        elif now_count < target_symbols:\n",
    "            print('error')\n",
    "            break\n",
    "        else:\n",
    "            bpe_symbols -= (now_count - target_symbols)\n",
    "            print('reset to %d' % bpe_symbols)\n",
    "    "
   ]
  },
  {
   "cell_type": "code",
   "execution_count": 24,
   "metadata": {},
   "outputs": [
    {
     "name": "stdout",
     "output_type": "stream",
     "text": [
      "python learn_bpe.py -i ../data/wordlevel/train.message -o ../data/bpelevel/train.message.bpe -s 34075\n",
      "0\n",
      "python3 apply_bpe.py -i ../data/wordlevel/train.message -c ../data/bpelevel/train.message.bpe -o ../data/bpelevel/train.message\n",
      "0\n",
      "40000/40000\n",
      "Done\n",
      "python learn_bpe.py -i ../data/wordlevel/train.response -o ../data/bpelevel/train.resonse.bpe -s 25300\n",
      "0\n",
      "python3 apply_bpe.py -i ../data/wordlevel/train.response -c ../data/bpelevel/train.resonse.bpe -o ../data/bpelevel/train.response\n",
      "0\n",
      "40000/40000\n",
      "Done\n"
     ]
    }
   ],
   "source": [
    "#worker('../data/wordlevel/train.message','../data/bpelevel/train.message','../data/bpelevel/train.message.bpe',34075)\n",
    "#worker('../data/wordlevel/train.response','../data/bpelevel/train.response','../data/bpelevel/train.resonse.bpe',25300)\n",
    "#worker('../data/enwordlevel/train.response','../data/enbpelevel/train.response','../data/enbpelevel/train.resonse.bpe',36246)\n",
    "#worker('../data/enwordlevel/train.message','../data/enbpelevel/train.message','../data/enbpelevel/train.message.bpe',35081)"
   ]
  },
  {
   "cell_type": "code",
   "execution_count": 27,
   "metadata": {},
   "outputs": [
    {
     "data": {
      "text/plain": [
       "0"
      ]
     },
     "execution_count": 27,
     "metadata": {},
     "output_type": "execute_result"
    }
   ],
   "source": [
    "os.system('python3 apply_bpe.py -i ../data/enwordlevel/dev.message -c ../data/enbpelevel/train.message.bpe -o ../data/enbpelevel/dev.message')\n",
    "os.system('python3 apply_bpe.py -i ../data/enwordlevel/test.message -c ../data/enbpelevel/train.message.bpe -o ../data/enbpelevel/test.message')\n",
    "os.system('python3 apply_bpe.py -i ../data/enwordlevel/dev.response -c ../data/enbpelevel/train.response.bpe -o ../data/enbpelevel/dev.response')\n",
    "os.system('python3 apply_bpe.py -i ../data/enwordlevel/test.response -c ../data/enbpelevel/train.response.bpe -o ../data/enbpelevel/test.response')"
   ]
  },
  {
   "cell_type": "code",
   "execution_count": null,
   "metadata": {
    "collapsed": true
   },
   "outputs": [],
   "source": []
  }
 ],
 "metadata": {
  "kernelspec": {
   "display_name": "Python 3",
   "language": "python",
   "name": "python3"
  },
  "language_info": {
   "codemirror_mode": {
    "name": "ipython",
    "version": 3
   },
   "file_extension": ".py",
   "mimetype": "text/x-python",
   "name": "python",
   "nbconvert_exporter": "python",
   "pygments_lexer": "ipython3",
   "version": "3.5.2"
  }
 },
 "nbformat": 4,
 "nbformat_minor": 2
}
